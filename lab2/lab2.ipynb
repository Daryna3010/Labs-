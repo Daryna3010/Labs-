{
 "cells": [
  {
   "cell_type": "markdown",
   "metadata": {},
   "source": [
    "<H1>ФБ-31 Федорович Дарина.</H1>\n",
    "<H1>Лабараторна робота №2: Наука про дані: підготовчий етап</H1>"
   ]
  },
  {
   "cell_type": "markdown",
   "metadata": {},
   "source": [
    "Налаштування середовища для даної лабораторної роботи "
   ]
  },
  {
   "cell_type": "code",
   "execution_count": 5,
   "metadata": {},
   "outputs": [
    {
     "name": "stdout",
     "output_type": "stream",
     "text": [
      "Setup Complete\n"
     ]
    }
   ],
   "source": [
    "import datetime\n",
    "import os\n",
    "import pandas as pd\n",
    "import glob\n",
    "\n",
    "\n",
    "print(\"Setup Complete\")"
   ]
  },
  {
   "cell_type": "markdown",
   "metadata": {},
   "source": [
    "Для кожної із адміністративних одиниць України завантажити тестові структуровані файли, що містять значення VHI-індексу."
   ]
  },
  {
   "cell_type": "code",
   "execution_count": 1,
   "metadata": {},
   "outputs": [],
   "source": [
    "import os\n",
    "import urllib.request\n",
    "import datetime\n",
    "\n",
    "def download_data(province_id, year_start=1981, year_end=2025, overwrite=False):\n",
    "    # Створення папки 'dataVHI', якщо вона не існує\n",
    "    data_folder = 'dataVHI'\n",
    "    os.makedirs(data_folder, exist_ok=True)\n",
    "\n",
    "    current_datetime = datetime.datetime.now().strftime('%Y-%m-%d_%H-%M')\n",
    "    filename = f'vhi_id__{province_id}__{current_datetime}.csv'\n",
    "    file_path = os.path.join(data_folder, filename)\n",
    "\n",
    "    existing_files = [file for file in os.listdir(data_folder) if file.startswith(f'vhi_id__{province_id}__')]\n",
    "    if existing_files and not overwrite:\n",
    "        print(f\"Файл '{existing_files[0]}' вже існує. Завантаження пропущено.\")\n",
    "        return\n",
    "\n",
    "    \n",
    "    url = f\"https://www.star.nesdis.noaa.gov/smcd/emb/vci/VH/get_TS_admin.php?country=UKR&provinceID={province_id}&year1={year_start}&year2={year_end}&type=Mean\"\n",
    "    \n",
    "    try:\n",
    "        # Виконуємо запит\n",
    "        print(f\"Завантаження даних з {url} ...\")\n",
    "        response = urllib.request.urlopen(url)\n",
    "        \n",
    "        # Перевіряємо статус відповіді\n",
    "        if response.status != 200:\n",
    "            print(f\"Помилка: не вдалося завантажити файл (HTTP {response.status})\")\n",
    "            return\n",
    "\n",
    "        # Збереження у файл\n",
    "        with open(file_path, 'wb') as file:\n",
    "            file.write(response.read())\n",
    "\n",
    "        # Видаляємо старі файли, залишаючи тільки новий\n",
    "        for old_file in existing_files:\n",
    "            os.remove(os.path.join(data_folder, old_file))\n",
    "        \n",
    "        print(f\"Дані успішно завантажено та збережено: '{file_path}'\")\n",
    "    \n",
    "    except Exception as e:\n",
    "        print(f\"Помилка під час завантаження: {e}\")"
   ]
  },
  {
   "cell_type": "code",
   "execution_count": 7,
   "metadata": {},
   "outputs": [
    {
     "name": "stdout",
     "output_type": "stream",
     "text": [
      "Файл 'vhi_id__1__2025-02-18_17-36.csv' вже існує. Завантаження пропущено.\n",
      "Файл 'vhi_id__2__2025-02-18_17-36.csv' вже існує. Завантаження пропущено.\n",
      "Файл 'vhi_id__3__2025-02-18_17-36.csv' вже існує. Завантаження пропущено.\n",
      "Файл 'vhi_id__4__2025-02-18_17-36.csv' вже існує. Завантаження пропущено.\n",
      "Файл 'vhi_id__5__2025-02-18_17-36.csv' вже існує. Завантаження пропущено.\n",
      "Файл 'vhi_id__6__2025-02-18_17-36.csv' вже існує. Завантаження пропущено.\n",
      "Файл 'vhi_id__7__2025-02-18_17-36.csv' вже існує. Завантаження пропущено.\n",
      "Файл 'vhi_id__8__2025-02-18_17-36.csv' вже існує. Завантаження пропущено.\n",
      "Файл 'vhi_id__9__2025-02-18_17-36.csv' вже існує. Завантаження пропущено.\n",
      "Файл 'vhi_id__10__2025-02-18_17-36.csv' вже існує. Завантаження пропущено.\n",
      "Файл 'vhi_id__11__2025-02-18_17-36.csv' вже існує. Завантаження пропущено.\n",
      "Файл 'vhi_id__12__2025-02-18_17-36.csv' вже існує. Завантаження пропущено.\n",
      "Файл 'vhi_id__13__2025-02-18_17-36.csv' вже існує. Завантаження пропущено.\n",
      "Файл 'vhi_id__14__2025-02-18_17-36.csv' вже існує. Завантаження пропущено.\n",
      "Файл 'vhi_id__15__2025-02-18_17-36.csv' вже існує. Завантаження пропущено.\n",
      "Файл 'vhi_id__16__2025-02-18_17-36.csv' вже існує. Завантаження пропущено.\n",
      "Файл 'vhi_id__17__2025-02-18_17-36.csv' вже існує. Завантаження пропущено.\n",
      "Файл 'vhi_id__18__2025-02-18_17-36.csv' вже існує. Завантаження пропущено.\n",
      "Файл 'vhi_id__19__2025-02-18_17-36.csv' вже існує. Завантаження пропущено.\n",
      "Файл 'vhi_id__20__2025-02-18_17-36.csv' вже існує. Завантаження пропущено.\n",
      "Файл 'vhi_id__21__2025-02-18_17-36.csv' вже існує. Завантаження пропущено.\n",
      "Файл 'vhi_id__22__2025-02-18_17-36.csv' вже існує. Завантаження пропущено.\n",
      "Файл 'vhi_id__23__2025-02-18_17-36.csv' вже існує. Завантаження пропущено.\n",
      "Файл 'vhi_id__24__2025-02-18_17-36.csv' вже існує. Завантаження пропущено.\n",
      "Файл 'vhi_id__25__2025-02-18_17-36.csv' вже існує. Завантаження пропущено.\n",
      "Файл 'vhi_id__26__2025-02-18_17-36.csv' вже існує. Завантаження пропущено.\n",
      "Файл 'vhi_id__27__2025-02-18_17-36.csv' вже існує. Завантаження пропущено.\n"
     ]
    }
   ],
   "source": [
    "for i in range(1,28):\n",
    "   download_data(i)"
   ]
  },
  {
   "cell_type": "markdown",
   "metadata": {},
   "source": [
    "Встановлення відповідності між id регіону та його назвою за алфавітом"
   ]
  },
  {
   "cell_type": "code",
   "execution_count": 8,
   "metadata": {},
   "outputs": [],
   "source": [
    "province_map = {\n",
    "    1: 'Вінницька',  2: 'Волинська',  3: 'Дніпропетровська',  4: 'Донецька',  5: 'Житомирська',\n",
    "    6: 'Закарпатська',  7: 'Запорізька',  8: 'Івано-Франківська',  9: 'Київська',  10: 'Кіровоградська',\n",
    "    11: 'Луганська',  12: 'Львівська',  13: 'Миколаївська',  14: 'Одеська',  15: 'Полтавська',\n",
    "    16: 'Рівненська',  17: 'Сумська',  18: 'Тернопільська',  19: 'Харківська',  20: 'Херсонська',\n",
    "    21: 'Хмельницька',  22: 'Черкаська',  23: 'Чернівецька',  24: 'Чернігівська',  25: 'Республіка Крим'\n",
    "}"
   ]
  },
  {
   "cell_type": "markdown",
   "metadata": {},
   "source": [
    "Зчитати завантажені текстові файли у фрейм. Імена стовбців фрейму мають бути змістовними та легкими для сприйняття (не повинно бути спеціалізованих символів, пробілів тощо). Ця задача має бути реалізована у вигляді окремої процедури, яка на вхід приймає шлях до директорії, в якій зберігаються файли;"
   ]
  },
  {
   "cell_type": "code",
   "execution_count": 10,
   "metadata": {},
   "outputs": [],
   "source": [
    "def create_vhi_dataframe(data_folder):\n",
    "    csv_files = glob.glob(data_folder + \"/*.csv\")\n",
    "\n",
    "    columns = ['Year', 'Week', 'SMN', 'SMT', 'VCI', 'TCI', 'VHI', 'extra']\n",
    "    dataframes = []\n",
    "\n",
    "    for csv_file in csv_files:\n",
    "        region_code = int(csv_file.split('__')[1])  \n",
    "        df = pd.read_csv(csv_file, header=1, names=columns)\n",
    "\n",
    "        df.at[0, 'Year'] = df.at[0, 'Year'][9:]  \n",
    "        df = df.drop(df.index[-1])  \n",
    "        df = df[df['VHI'] != -1]  \n",
    "        df = df.drop('extra', axis=1)\n",
    "\n",
    "        df.insert(0, 'region_code', region_code, True)\n",
    "        df['Week'] = df['Week'].astype(int)\n",
    "        \n",
    "        dataframes.append(df)   \n",
    "        \n",
    "    combined_df = pd.concat(dataframes).drop_duplicates().reset_index(drop=True)\n",
    "\n",
    "    combined_df = combined_df.loc[(combined_df.region_code != 12) & (combined_df.region_code != 20)]\n",
    "    combined_df = combined_df.replace({'region_code': {1:22, 2:24, 3:23, 4:25, 5:3, 6:4, 7:8, 8:19, 9:20, 10:21, \n",
    "                                                       11:9, 13:10, 14:11, 15:12, 16:13, 17:14, 18:15, 19:16, 21:17, \n",
    "                                                       22:18, 23:6, 24:1, 25:2, 26:6, 27:5}})\n",
    "    \n",
    "    return combined_df\n"
   ]
  },
  {
   "cell_type": "code",
   "execution_count": 11,
   "metadata": {},
   "outputs": [
    {
     "name": "stdout",
     "output_type": "stream",
     "text": [
      "       region_code  Year  Week    SMN     SMT    VCI    TCI    VHI\n",
      "0               21  1982     1  0.059  258.24  51.11  48.78  49.95\n",
      "1               21  1982     2  0.063  261.53  55.89  38.20  47.04\n",
      "2               21  1982     3  0.063  263.45  57.30  32.69  44.99\n",
      "3               21  1982     4  0.061  265.10  53.96  28.62  41.29\n",
      "4               21  1982     5  0.058  266.42  46.87  28.57  37.72\n",
      "...            ...   ...   ...    ...     ...    ...    ...    ...\n",
      "59179           20  2025     2  0.125  276.09  70.85   1.96  36.40\n",
      "59180           20  2025     3  0.121  275.76  71.09   2.30  36.69\n",
      "59181           20  2025     4  0.119  275.86  71.56   3.75  37.64\n",
      "59182           20  2025     5  0.122  276.27  71.94   4.58  38.25\n",
      "59183           20  2025     6  0.128  276.56  71.39   8.48  39.94\n",
      "\n",
      "[54800 rows x 8 columns]\n"
     ]
    }
   ],
   "source": [
    "result = create_vhi_dataframe('dataVHI')\n",
    "\n",
    "print(result)"
   ]
  },
  {
   "cell_type": "markdown",
   "metadata": {},
   "source": [
    "Реалізувати процедури для формування вибірок наступного виду\n",
    "<pre>o Ряд VHI для області за вказаний рік;</pre>"
   ]
  },
  {
   "cell_type": "code",
   "execution_count": 12,
   "metadata": {},
   "outputs": [
    {
     "name": "stdout",
     "output_type": "stream",
     "text": [
      "      Year  Week    VHI\n",
      "8762  2025     1  38.58\n",
      "8763  2025     2  39.88\n",
      "8764  2025     3  41.38\n",
      "8765  2025     4  43.46\n",
      "8766  2025     5  44.50\n",
      "8767  2025     6  46.11\n"
     ]
    }
   ],
   "source": [
    "def get_vhi_by_region_and_year(df, region_code, year):\n",
    " \n",
    "    filtered_data = df[(df['region_code'] == region_code) & (df['Year'].astype(int) == year)]\n",
    "    return filtered_data[['Year', 'Week', 'VHI']]\n",
    "\n",
    "# Використання:\n",
    "region_id = 10 \n",
    "year = 2025\n",
    "\n",
    "vhi_series = get_vhi_by_region_and_year(result, region_id, year)\n",
    "print(vhi_series)\n"
   ]
  },
  {
   "cell_type": "markdown",
   "metadata": {},
   "source": [
    "<pre>o Пошук екстремумів (min та max) для вказаних областей та років, середнього, медіани;</pre>"
   ]
  },
  {
   "cell_type": "code",
   "execution_count": 13,
   "metadata": {},
   "outputs": [
    {
     "name": "stdout",
     "output_type": "stream",
     "text": [
      "{'Мінімальний VHI': 21.08, 'Максимальний VHI': 49.51, 'Середній VHI': 38.52, 'Медіана VHI': 38.8}\n"
     ]
    }
   ],
   "source": [
    "def get_vhi_statistics(df, region_code, year):\n",
    "    filtered_data = df[(df['region_code'] == region_code) & (df['Year'].astype(int) == year)]\n",
    "    \n",
    "    if filtered_data.empty:\n",
    "        return f\"Дані для регіону {region_code} за {year} рік відсутні.\"\n",
    "    \n",
    "    vhi_values = filtered_data['VHI']\n",
    "    \n",
    "    stats = {\n",
    "        'Мінімальний VHI': round(float(vhi_values.min()), 2),\n",
    "        'Максимальний VHI': round(float(vhi_values.max()), 2),\n",
    "        'Середній VHI': round(float(vhi_values.mean()), 2),\n",
    "        'Медіана VHI': round(float(vhi_values.median()), 2)\n",
    "    }\n",
    "    \n",
    "    return stats\n",
    "\n",
    "# Приклад використання:\n",
    "region_id = 10 \n",
    "year = 2024\n",
    "\n",
    "vhi_stats = get_vhi_statistics(result, region_id, year)\n",
    "print(vhi_stats)"
   ]
  },
  {
   "cell_type": "markdown",
   "metadata": {},
   "source": [
    "<pre>o Ряд VHI за вказаний діапазон років для вказаних областей</pre>"
   ]
  },
  {
   "cell_type": "code",
   "execution_count": 14,
   "metadata": {},
   "outputs": [
    {
     "name": "stdout",
     "output_type": "stream",
     "text": [
      "       region_code  Year  Week    VHI\n",
      "50254            3  2022     1  51.23\n",
      "50255            3  2022     2  49.10\n",
      "50256            3  2022     3  47.49\n",
      "50257            3  2022     4  46.99\n",
      "50258            3  2022     5  45.43\n",
      "...            ...   ...   ...    ...\n",
      "13141           12  2024    48  44.15\n",
      "13142           12  2024    49  42.39\n",
      "13143           12  2024    50  39.90\n",
      "13144           12  2024    51  40.62\n",
      "13145           12  2024    52  42.24\n",
      "\n",
      "[312 rows x 4 columns]\n"
     ]
    }
   ],
   "source": [
    "def get_vhi_by_regions_and_year_range(df, region_codes, start_year, end_year):\n",
    "    filtered_data = df[\n",
    "        (df['region_code'].isin(region_codes)) & \n",
    "        (df['Year'].astype(int).between(start_year, end_year))\n",
    "    ]\n",
    "    \n",
    "    return filtered_data[['region_code', 'Year', 'Week', 'VHI']].sort_values(by=['region_code', 'Year', 'Week'])\n",
    "\n",
    "# Приклад використання:\n",
    "selected_regions = [3, 12]  \n",
    "start_year = 2022\n",
    "end_year = 2024\n",
    "\n",
    "vhi_time_series = get_vhi_by_regions_and_year_range(result, selected_regions, start_year, end_year)\n",
    "print(vhi_time_series)"
   ]
  },
  {
   "cell_type": "markdown",
   "metadata": {},
   "source": [
    "<pre>o Для всього набору даних виявити роки, протягом яких екстремальні посухи торкнулися більше вказаного відсотка \n",
    "областей по Україні (20%областей - 5 областей з 25). Повернути роки, назви областей з екстремальними посухами \n",
    "та значення VHI</pre>"
   ]
  },
  {
   "cell_type": "code",
   "execution_count": 15,
   "metadata": {},
   "outputs": [
    {
     "name": "stdout",
     "output_type": "stream",
     "text": [
      "2000 (Посуха у 16.67% областей):\n",
      "Вінницька: VHI = 11.25\n",
      "Київська: VHI = 10.60\n",
      "Харківська: VHI = 9.36\n",
      "Черкаська: VHI = 10.68\n",
      "2007 (Посуха у 20.83% областей):\n",
      "Закарпатська: VHI = 10.88\n",
      "Миколаївська: VHI = 5.94\n",
      "Одеська: VHI = 5.52\n",
      "Херсонська: VHI = 12.23\n",
      "Республіка Крим: VHI = 13.28\n"
     ]
    }
   ],
   "source": [
    "def detect_drought_years(df, vhi_threshold=15, affected_percentage=20):\n",
    "    total_regions = df['region_code'].nunique()\n",
    "    min_affected_regions = int((affected_percentage / 100) * total_regions)\n",
    "\n",
    "    drought_years = {}\n",
    "\n",
    "    for year in df['Year'].unique():\n",
    "        yearly_data = df[df['Year'] == year]\n",
    "\n",
    "        region_droughts = yearly_data.groupby('region_code')['VHI'].min()\n",
    "        affected_regions = region_droughts[region_droughts <= vhi_threshold]\n",
    "\n",
    "        affected_count = len(affected_regions) \n",
    "        affected_percent = (affected_count / total_regions) * 100 \n",
    "\n",
    "        if affected_count >= min_affected_regions:\n",
    "            drought_years[int(year)] = (round(affected_percent, 2), affected_regions.to_dict())\n",
    "\n",
    "    return drought_years\n",
    "\n",
    "\n",
    "# Використання:\n",
    "drought_data = detect_drought_years(result, vhi_threshold=15, affected_percentage=20)\n",
    "\n",
    "for year, (percent, regions) in drought_data.items():\n",
    "    print(f\"{year} (Посуха у {percent:.2f}% областей):\")\n",
    "    for region_id, vhi_value in regions.items():\n",
    "        region_name = province_map.get(region_id, f\"Область {region_id}\") \n",
    "        print(f\"{region_name}: VHI = {vhi_value:.2f}\")\n"
   ]
  }
 ],
 "metadata": {
  "kernelspec": {
   "display_name": "Python 3",
   "language": "python",
   "name": "python3"
  },
  "language_info": {
   "codemirror_mode": {
    "name": "ipython",
    "version": 3
   },
   "file_extension": ".py",
   "mimetype": "text/x-python",
   "name": "python",
   "nbconvert_exporter": "python",
   "pygments_lexer": "ipython3",
   "version": "3.13.1"
  }
 },
 "nbformat": 4,
 "nbformat_minor": 2
}
