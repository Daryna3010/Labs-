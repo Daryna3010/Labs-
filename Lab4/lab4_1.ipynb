{
 "cells": [
  {
   "cell_type": "markdown",
   "metadata": {},
   "source": [
    "<H1>ФБ-31 Федорович Дарина.</H1>\n",
    "<H1>Лабараторна робота № 4. Структури для роботи з великими обсягами даних в Python</H1>\n",
    "Завдання першого рівня"
   ]
  },
  {
   "cell_type": "markdown",
   "metadata": {},
   "source": [
    "Налаштування середовища для даної лабараторної роботи"
   ]
  },
  {
   "cell_type": "code",
   "execution_count": 2,
   "metadata": {},
   "outputs": [
    {
     "name": "stdout",
     "output_type": "stream",
     "text": [
      "Setup is complete\n"
     ]
    }
   ],
   "source": [
    "import numpy as np\n",
    "import pandas as pd\n",
    "from datetime import time as dt_time\n",
    "import time\n",
    "\n",
    "print(\"Setup is complete\")"
   ]
  },
  {
   "cell_type": "code",
   "execution_count": 11,
   "metadata": {},
   "outputs": [
    {
     "name": "stdout",
     "output_type": "stream",
     "text": [
      "(2049280, 9)\n",
      "Перші кілька рядків DataFrame:\n",
      "        Date      Time  Global_active_power  Global_reactive_power  Voltage  \\\n",
      "0 2006-12-16  17:24:00                4.216                  0.418   234.84   \n",
      "1 2006-12-16  17:25:00                5.360                  0.436   233.63   \n",
      "2 2006-12-16  17:26:00                5.374                  0.498   233.29   \n",
      "3 2006-12-16  17:27:00                5.388                  0.502   233.74   \n",
      "4 2006-12-16  17:28:00                3.666                  0.528   235.68   \n",
      "\n",
      "   Global_intensity  Sub_metering_1  Sub_metering_2  Sub_metering_3  \n",
      "0              18.4             0.0             1.0            17.0  \n",
      "1              23.0             0.0             1.0            16.0  \n",
      "2              23.0             0.0             2.0            17.0  \n",
      "3              23.0             0.0             1.0            17.0  \n",
      "4              15.8             0.0             1.0            17.0  \n",
      "\n",
      "Перші кілька рядків NumPy масиву:\n",
      "[[Timestamp('2006-12-16 00:00:00') datetime.time(17, 24) 4.216 0.418\n",
      "  234.84 18.4 0.0 1.0 17.0]\n",
      " [Timestamp('2006-12-16 00:00:00') datetime.time(17, 25) 5.36 0.436\n",
      "  233.63 23.0 0.0 1.0 16.0]\n",
      " [Timestamp('2006-12-16 00:00:00') datetime.time(17, 26) 5.374 0.498\n",
      "  233.29 23.0 0.0 2.0 17.0]\n",
      " [Timestamp('2006-12-16 00:00:00') datetime.time(17, 27) 5.388 0.502\n",
      "  233.74 23.0 0.0 1.0 17.0]\n",
      " [Timestamp('2006-12-16 00:00:00') datetime.time(17, 28) 3.666 0.528\n",
      "  235.68 15.8 0.0 1.0 17.0]]\n"
     ]
    }
   ],
   "source": [
    "file = 'household_power_consumption.csv'\n",
    "\n",
    "def display_head(data, n=5):\n",
    "    if isinstance(data, pd.DataFrame):\n",
    "        print(f\"Перші кілька рядків DataFrame:\")\n",
    "        print(data.head(n))  \n",
    "    elif isinstance(data, np.ndarray):\n",
    "        print(f\"\\nПерші кілька рядків NumPy масиву:\")\n",
    "        print(data[:n])  \n",
    "    else:\n",
    "        print(\"Непідтримуваний тип даних.\")\n",
    "\n",
    "def create_numpy_array(file):\n",
    "    data = np.genfromtxt(file, delimiter=',')\n",
    "    return data\n",
    "\n",
    "def create_data_frame(file):\n",
    "    header = [\"Date\", \"Time\", \"Global_active_power\", \"Global_reactive_power\", \"Voltage\", \"Global_intensity\", \"Sub_metering_1\", \"Sub_metering_2\", \"Sub_metering_3\"]\n",
    "\n",
    "    dtype = {\n",
    "        'Global_active_power': float,\n",
    "        'Global_reactive_power': float,\n",
    "        'Voltage': float,\n",
    "        'Global_intensity': float,\n",
    "        'Sub_metering_1': float,\n",
    "        'Sub_metering_2': float,\n",
    "        'Sub_metering_3': float\n",
    "    }\n",
    "\n",
    "    na_values = ['?']\n",
    "    df = pd.read_csv(file, dtype=dtype, na_values=na_values)\n",
    "\n",
    "    df['Date'] = pd.to_datetime(df['Date'], dayfirst=True)\n",
    "    df['Time'] = pd.to_datetime(df['Time'], format='%H:%M:%S').dt.time\n",
    "    df = df.dropna()\n",
    "\n",
    "    return df\n",
    "\n",
    "df = create_data_frame(file)\n",
    "np_arr = df.to_numpy()\n",
    "print(np_arr.shape)\n",
    "display_head(df, 5)\n",
    "display_head(np_arr, 5)\n"
   ]
  },
  {
   "cell_type": "markdown",
   "metadata": {},
   "source": [
    "1. Обрати всі записи, у яких загальна активна споживана потужність перевищує 5 кВт."
   ]
  },
  {
   "cell_type": "code",
   "execution_count": 12,
   "metadata": {},
   "outputs": [
    {
     "name": "stdout",
     "output_type": "stream",
     "text": [
      "\n",
      " DataFrame\n",
      "\n",
      "Перші 5 рядків результату:\n",
      "\n",
      "Date                      | Time                      | Global_active_power       | Global_reactive_power     | Voltage                   | Global_intensity          | Sub_metering_1            | Sub_metering_2            | Sub_metering_3           \n",
      "---------------------------------------------------------------------------------------------------------------------------------------------------------------------------------------------------------------------------------------------------------\n",
      "2006-12-16 00:00:00       | 17:25:00                  | 5.36                      | 0.436                     | 233.63                    | 23.0                      | 0.0                       | 1.0                       | 16.0                     \n",
      "2006-12-16 00:00:00       | 17:26:00                  | 5.374                     | 0.498                     | 233.29                    | 23.0                      | 0.0                       | 2.0                       | 17.0                     \n",
      "2006-12-16 00:00:00       | 17:27:00                  | 5.388                     | 0.502                     | 233.74                    | 23.0                      | 0.0                       | 1.0                       | 17.0                     \n",
      "2006-12-16 00:00:00       | 17:35:00                  | 5.412                     | 0.47                      | 232.78                    | 23.2                      | 0.0                       | 1.0                       | 17.0                     \n",
      "2006-12-16 00:00:00       | 17:36:00                  | 5.224                     | 0.478                     | 232.99                    | 22.4                      | 0.0                       | 1.0                       | 16.0                     \n",
      "\n",
      "Час виконання для DataFrame: 0.0309 сек\n",
      "\n",
      " NumPy масив\n",
      "\n",
      "Перші 5 рядків результату:\n",
      "\n",
      "Date                      | Time                      | Global_active_power       | Global_reactive_power     | Voltage                   | Global_intensity          | Sub_metering_1            | Sub_metering_2            | Sub_metering_3           \n",
      "---------------------------------------------------------------------------------------------------------------------------------------------------------------------------------------------------------------------------------------------------------\n",
      "2006-12-16 00:00:00       | 17:25:00                  | 5.36                      | 0.436                     | 233.63                    | 23.0                      | 0.0                       | 1.0                       | 16.0                     \n",
      "2006-12-16 00:00:00       | 17:26:00                  | 5.374                     | 0.498                     | 233.29                    | 23.0                      | 0.0                       | 2.0                       | 17.0                     \n",
      "2006-12-16 00:00:00       | 17:27:00                  | 5.388                     | 0.502                     | 233.74                    | 23.0                      | 0.0                       | 1.0                       | 17.0                     \n",
      "2006-12-16 00:00:00       | 17:35:00                  | 5.412                     | 0.47                      | 232.78                    | 23.2                      | 0.0                       | 1.0                       | 17.0                     \n",
      "2006-12-16 00:00:00       | 17:36:00                  | 5.224                     | 0.478                     | 232.99                    | 22.4                      | 0.0                       | 1.0                       | 16.0                     \n",
      "\n",
      "Час виконання для NumPy масиву: 0.0369 сек\n"
     ]
    }
   ],
   "source": [
    "def filter_high_power_df(df):\n",
    "    filtered_df = df[df['Global_active_power'] > 5.0]\n",
    "    return filtered_df\n",
    "\n",
    "def filter_high_power_np(np_arr):\n",
    "    filtered_np = np_arr[np_arr[:, 2] > 5.0]\n",
    "    return filtered_np\n",
    "\n",
    "df = create_data_frame(file)\n",
    "np_arr = df.to_numpy()\n",
    "\n",
    "print(\"\\n DataFrame\")\n",
    "start_time = time.time()\n",
    "filtered_df = filter_high_power_df(df)\n",
    "print_head(filtered_df.values.tolist(), df.columns.tolist()) \n",
    "end_time = time.time() - start_time\n",
    "print(f\"Час виконання для DataFrame: {end_time:.4f} сек\")\n",
    "\n",
    "print(\"\\n NumPy масив\")\n",
    "start_time_np = time.time()\n",
    "filtered_np = filter_high_power_np(np_arr)\n",
    "print_head(filtered_np, df.columns.tolist()) \n",
    "end_time_np = time.time() - start_time_np\n",
    "print(f\"Час виконання для NumPy масиву: {end_time_np:.4f} сек\")"
   ]
  },
  {
   "cell_type": "markdown",
   "metadata": {},
   "source": [
    "2.Обрати всі записи, у яких вольтаж перевищую 235 В."
   ]
  },
  {
   "cell_type": "code",
   "execution_count": null,
   "metadata": {},
   "outputs": [
    {
     "name": "stdout",
     "output_type": "stream",
     "text": [
      "\n",
      " DataFrame\n",
      "\n",
      "Перші 5 рядків результату:\n",
      "\n",
      "Date                      | Time                      | Global_active_power       | Global_reactive_power     | Voltage                   | Global_intensity          | Sub_metering_1            | Sub_metering_2            | Sub_metering_3           \n",
      "---------------------------------------------------------------------------------------------------------------------------------------------------------------------------------------------------------------------------------------------------------\n",
      "2006-12-16 00:00:00       | 17:28:00                  | 3.666                     | 0.528                     | 235.68                    | 15.8                      | 0.0                       | 1.0                       | 17.0                     \n",
      "2006-12-16 00:00:00       | 17:29:00                  | 3.52                      | 0.522                     | 235.02                    | 15.0                      | 0.0                       | 2.0                       | 17.0                     \n",
      "2006-12-16 00:00:00       | 17:30:00                  | 3.702                     | 0.52                      | 235.09                    | 15.8                      | 0.0                       | 1.0                       | 17.0                     \n",
      "2006-12-16 00:00:00       | 17:31:00                  | 3.7                       | 0.52                      | 235.22                    | 15.8                      | 0.0                       | 1.0                       | 17.0                     \n",
      "2006-12-16 00:00:00       | 17:38:00                  | 4.054                     | 0.422                     | 235.24                    | 17.6                      | 0.0                       | 1.0                       | 17.0                     \n",
      "\n",
      "Час виконання для DataFrame: 3.1001 сек\n",
      "\n",
      " NumPy масив\n",
      "\n",
      "Перші 5 рядків результату:\n",
      "\n",
      "Date                      | Time                      | Global_active_power       | Global_reactive_power     | Voltage                   | Global_intensity          | Sub_metering_1            | Sub_metering_2            | Sub_metering_3           \n",
      "---------------------------------------------------------------------------------------------------------------------------------------------------------------------------------------------------------------------------------------------------------\n",
      "2006-12-16 00:00:00       | 17:28:00                  | 3.666                     | 0.528                     | 235.68                    | 15.8                      | 0.0                       | 1.0                       | 17.0                     \n",
      "2006-12-16 00:00:00       | 17:29:00                  | 3.52                      | 0.522                     | 235.02                    | 15.0                      | 0.0                       | 2.0                       | 17.0                     \n",
      "2006-12-16 00:00:00       | 17:30:00                  | 3.702                     | 0.52                      | 235.09                    | 15.8                      | 0.0                       | 1.0                       | 17.0                     \n",
      "2006-12-16 00:00:00       | 17:31:00                  | 3.7                       | 0.52                      | 235.22                    | 15.8                      | 0.0                       | 1.0                       | 17.0                     \n",
      "2006-12-16 00:00:00       | 17:38:00                  | 4.054                     | 0.422                     | 235.24                    | 17.6                      | 0.0                       | 1.0                       | 17.0                     \n",
      "\n",
      "Час виконання для NumPy масиву: 0.2609 сек\n"
     ]
    }
   ],
   "source": [
    "def filter_by_high_voltage_df(df):\n",
    "    filtered_df = df[df['Voltage'] > 235.0]\n",
    "    return filtered_df\n",
    "\n",
    "def filter_by_high_voltage_np(np_arr):\n",
    "    filtered_np = np_arr[np_arr[:, 4] > 235.0] \n",
    "    return filtered_np\n",
    "\n",
    "print(\"\\n DataFrame\")\n",
    "start_time = time.time()\n",
    "filtered_df = filter_by_high_voltage_df(df)\n",
    "print_head(filtered_df.values.tolist(), df.columns.tolist()) \n",
    "end_time = time.time() - start_time\n",
    "print(f\"Час виконання для DataFrame: {end_time:.4f} сек\")\n",
    "\n",
    "print(\"\\n NumPy масив\")\n",
    "start_time_np = time.time()\n",
    "filtered_np = filter_by_high_voltage_np(np_arr)\n",
    "print_head(filtered_np, df.columns.tolist()) \n",
    "end_time_np = time.time() - start_time_np\n",
    "print(f\"Час виконання для NumPy масиву: {end_time_np:.4f} сек\")\n"
   ]
  },
  {
   "cell_type": "markdown",
   "metadata": {},
   "source": [
    "3. Обрати всі записи, у яких сила струму лежить в межах 19-20 А,для них виявити ті, у яких пральна машина та холодильних\n",
    "споживають більше, ніж бойлер та кондиціонер."
   ]
  },
  {
   "cell_type": "code",
   "execution_count": 15,
   "metadata": {},
   "outputs": [
    {
     "name": "stdout",
     "output_type": "stream",
     "text": [
      "\n",
      " DataFrame\n",
      "\n",
      "Перші 5 рядків результату:\n",
      "\n",
      "Date                      | Time                      | Global_active_power       | Global_reactive_power     | Voltage                   | Global_intensity          | Sub_metering_1            | Sub_metering_2            | Sub_metering_3           \n",
      "---------------------------------------------------------------------------------------------------------------------------------------------------------------------------------------------------------------------------------------------------------\n",
      "2006-12-16 00:00:00       | 18:09:00                  | 4.464                     | 0.136                     | 234.66                    | 19.0                      | 0.0                       | 37.0                      | 16.0                     \n",
      "2006-12-17 00:00:00       | 01:04:00                  | 4.582                     | 0.258                     | 238.08                    | 19.6                      | 0.0                       | 13.0                      | 0.0                      \n",
      "2006-12-17 00:00:00       | 01:08:00                  | 4.618                     | 0.104                     | 239.61                    | 19.6                      | 0.0                       | 27.0                      | 0.0                      \n",
      "2006-12-17 00:00:00       | 01:19:00                  | 4.636                     | 0.14                      | 237.37                    | 19.4                      | 0.0                       | 36.0                      | 0.0                      \n",
      "2006-12-17 00:00:00       | 01:20:00                  | 4.634                     | 0.152                     | 237.17                    | 19.4                      | 0.0                       | 35.0                      | 0.0                      \n",
      "\n",
      "Час виконання для DataFrame: 0.1925 сек\n",
      "\n",
      " NumPy масив\n",
      "\n",
      "Перші 5 рядків результату:\n",
      "\n",
      "Date                      | Time                      | Global_active_power       | Global_reactive_power     | Voltage                   | Global_intensity          | Sub_metering_1            | Sub_metering_2            | Sub_metering_3           \n",
      "---------------------------------------------------------------------------------------------------------------------------------------------------------------------------------------------------------------------------------------------------------\n",
      "2006-12-16 00:00:00       | 18:09:00                  | 4.464                     | 0.136                     | 234.66                    | 19.0                      | 0.0                       | 37.0                      | 16.0                     \n",
      "2006-12-17 00:00:00       | 01:04:00                  | 4.582                     | 0.258                     | 238.08                    | 19.6                      | 0.0                       | 13.0                      | 0.0                      \n",
      "2006-12-17 00:00:00       | 01:08:00                  | 4.618                     | 0.104                     | 239.61                    | 19.6                      | 0.0                       | 27.0                      | 0.0                      \n",
      "2006-12-17 00:00:00       | 01:19:00                  | 4.636                     | 0.14                      | 237.37                    | 19.4                      | 0.0                       | 36.0                      | 0.0                      \n",
      "2006-12-17 00:00:00       | 01:20:00                  | 4.634                     | 0.152                     | 237.17                    | 19.4                      | 0.0                       | 35.0                      | 0.0                      \n",
      "\n",
      "Час виконання для NumPy масиву: 0.2460 сек\n"
     ]
    }
   ],
   "source": [
    "def filter_by_intensity_and_consumption(df):\n",
    "    filtered_df = df[(df['Global_intensity'] >= 19) & (df['Global_intensity'] <= 20)]\n",
    "    \n",
    "    filtered_df = filtered_df[ \n",
    "        (filtered_df['Sub_metering_1'] + filtered_df['Sub_metering_2'] > filtered_df['Sub_metering_3'] + filtered_df['Sub_metering_1'])\n",
    "    ]\n",
    "    \n",
    "    return filtered_df\n",
    "\n",
    "\n",
    "def filter_by_intensity_and_consumption_np(np_arr):\n",
    "    filtered_np = np_arr[(np_arr[:, 5] >= 19) & (np_arr[:, 5] <= 20)]\n",
    "    \n",
    "    filtered_np = filtered_np[ \n",
    "        (filtered_np[:, 6] + filtered_np[:, 7] > filtered_np[:, 8] + filtered_np[:, 6])\n",
    "    ]\n",
    "    \n",
    "    return filtered_np\n",
    "\n",
    "print(\"\\n DataFrame\")\n",
    "start_time = time.time()\n",
    "filtered_df = filter_by_intensity_and_consumption(df)\n",
    "print_head(filtered_df.values.tolist(), df.columns.tolist()) \n",
    "end_time = time.time() - start_time\n",
    "print(f\"Час виконання для DataFrame: {end_time:.4f} сек\")\n",
    "\n",
    "\n",
    "print(\"\\n NumPy масив\")\n",
    "start_time_np = time.time()\n",
    "filtered_np = filter_by_intensity_and_consumption_np(np_arr)\n",
    "print_head(filtered_np, df.columns.tolist()) \n",
    "end_time_np = time.time() - start_time_np\n",
    "print(f\"Час виконання для NumPy масиву: {end_time_np:.4f} сек\")\n"
   ]
  },
  {
   "cell_type": "markdown",
   "metadata": {},
   "source": [
    "4. Обрати випадковим чином 500000 записів (без повторів елементів вибірки), для них обчислити середні величини усіх 3-х груп\n",
    "споживання електричної енергії"
   ]
  },
  {
   "cell_type": "code",
   "execution_count": null,
   "metadata": {},
   "outputs": [
    {
     "name": "stdout",
     "output_type": "stream",
     "text": [
      "\n",
      "Задача 4 - DataFrame\n",
      "Середнє споживання для Sub_metering_1: 1.1193\n",
      "Середнє споживання для Sub_metering_2: 1.3089\n",
      "Середнє споживання для Sub_metering_3: 6.4530\n",
      "Час виконання для DataFrame: 0.2967 сек\n",
      "\n",
      "Задача 4 (з використанням NumPy)\n",
      "[1.121568 1.289416 6.451298]\n",
      "Час виконання для NumPy масиву: 0.4396 сек\n"
     ]
    }
   ],
   "source": [
    "def select_random_and_average(df, n=500000):\n",
    "    random_sample = df.sample(n=n, random_state=42)\n",
    "\n",
    "    avg_sub_metering_1 = random_sample['Sub_metering_1'].mean()\n",
    "    avg_sub_metering_2 = random_sample['Sub_metering_2'].mean()\n",
    "    avg_sub_metering_3 = random_sample['Sub_metering_3'].mean()\n",
    "\n",
    "    return avg_sub_metering_1, avg_sub_metering_2, avg_sub_metering_3\n",
    "\n",
    "def select_random_and_average_np(np_arr, n=500000):\n",
    "    random_sample = np.random.choice(np_arr.shape[0], size=n, replace=False)\n",
    "\n",
    "    avg_sub_metering_1 = np.mean(np_arr[random_sample, 6])\n",
    "    avg_sub_metering_2 = np.mean(np_arr[random_sample, 7])\n",
    "    avg_sub_metering_3 = np.mean(np_arr[random_sample, 8])\n",
    "\n",
    "    return avg_sub_metering_1, avg_sub_metering_2, avg_sub_metering_3\n",
    "\n",
    "print(\"\\n DataFrame\")\n",
    "start_time = time.time()\n",
    "avg_sub_metering_1, avg_sub_metering_2, avg_sub_metering_3 = select_random_and_average(df)\n",
    "print(f\"Середнє споживання для Sub_metering_1: {avg_sub_metering_1:.4f}\")\n",
    "print(f\"Середнє споживання для Sub_metering_2: {avg_sub_metering_2:.4f}\")\n",
    "print(f\"Середнє споживання для Sub_metering_3: {avg_sub_metering_3:.4f}\")\n",
    "end_time = time.time() - start_time\n",
    "print(f\"Час виконання для DataFrame: {end_time:.4f} сек\")\n",
    "\n",
    "print(\"\\n NumPy масив\")\n",
    "start_time_np = time.time()\n",
    "avg_sub_metering_1_np, avg_sub_metering_2_np, avg_sub_metering_3_np = select_random_and_average_np(np_arr)\n",
    "print(f\"[{avg_sub_metering_1_np:.6f} {avg_sub_metering_2_np:.6f} {avg_sub_metering_3_np:.6f}]\")\n",
    "end_time_np = time.time() - start_time_np\n",
    "\n",
    "print(f\"Час виконання для NumPy масиву: {end_time_np:.4f} сек\")\n"
   ]
  },
  {
   "cell_type": "markdown",
   "metadata": {},
   "source": [
    "5. Обрати ті записи, які після 18-00 споживають понад 6 кВт за хвилину в середньому, серед відібраних визначити ті, у яких\n",
    "основне споживання електроенергії у вказаний проміжок часу припадає на пральну машину, сушарку, холодильник та освітлення\n",
    "(група 2 є найбільшою), а потім обрати кожен третій результат із першої половини та кожен четвертий результат із другої половини."
   ]
  },
  {
   "cell_type": "code",
   "execution_count": 16,
   "metadata": {},
   "outputs": [
    {
     "name": "stdout",
     "output_type": "stream",
     "text": [
      "\n",
      " DataFrame\n",
      "\n",
      "Перші 5 рядків результату:\n",
      "\n",
      "Date                      | Time                      | Global_active_power       | Global_reactive_power     | Voltage                   | Global_intensity          | Sub_metering_1            | Sub_metering_2            | Sub_metering_3           \n",
      "---------------------------------------------------------------------------------------------------------------------------------------------------------------------------------------------------------------------------------------------------------\n",
      "2006-12-16 00:00:00       | 18:07:00                  | 6.474                     | 0.144                     | 231.85                    | 27.8                      | 0.0                       | 37.0                      | 16.0                     \n",
      "2006-12-18 00:00:00       | 19:31:00                  | 6.158                     | 0.442                     | 229.08                    | 27.0                      | 0.0                       | 36.0                      | 0.0                      \n",
      "2006-12-28 00:00:00       | 21:01:00                  | 7.062                     | 0.27                      | 235.76                    | 30.2                      | 2.0                       | 65.0                      | 17.0                     \n",
      "2006-12-28 00:00:00       | 21:04:00                  | 7.376                     | 0.238                     | 234.67                    | 31.4                      | 1.0                       | 72.0                      | 17.0                     \n",
      "2006-12-28 00:00:00       | 21:07:00                  | 7.248                     | 0.0                       | 235.34                    | 30.8                      | 1.0                       | 72.0                      | 17.0                     \n",
      "\n",
      "Час виконання для DataFrame: 0.1547 сек\n",
      "\n",
      "  NumPy масив\n",
      "\n",
      "Перші 5 рядків результату:\n",
      "\n",
      "Date                      | Time                      | Global_active_power       | Global_reactive_power     | Voltage                   | Global_intensity          | Sub_metering_1            | Sub_metering_2            | Sub_metering_3           \n",
      "---------------------------------------------------------------------------------------------------------------------------------------------------------------------------------------------------------------------------------------------------------\n",
      "2006-12-16 00:00:00       | 18:07:00                  | 6.474                     | 0.144                     | 231.85                    | 27.8                      | 0.0                       | 37.0                      | 16.0                     \n",
      "2006-12-18 00:00:00       | 19:31:00                  | 6.158                     | 0.442                     | 229.08                    | 27.0                      | 0.0                       | 36.0                      | 0.0                      \n",
      "2006-12-28 00:00:00       | 21:01:00                  | 7.062                     | 0.27                      | 235.76                    | 30.2                      | 2.0                       | 65.0                      | 17.0                     \n",
      "2006-12-28 00:00:00       | 21:04:00                  | 7.376                     | 0.238                     | 234.67                    | 31.4                      | 1.0                       | 72.0                      | 17.0                     \n",
      "2006-12-28 00:00:00       | 21:07:00                  | 7.248                     | 0.0                       | 235.34                    | 30.8                      | 1.0                       | 72.0                      | 17.0                     \n",
      "\n",
      "Час виконання для NumPy масиву: 0.1796 сек\n"
     ]
    }
   ],
   "source": [
    "def filter_by_conditions_and_split(df):\n",
    "    filtered_df = df[(df['Time'] > pd.to_datetime('18:00:00').time()) & (df['Global_active_power'] > 6) \n",
    "                     & (df['Sub_metering_2'] > df['Sub_metering_1']) \n",
    "                     & (df['Sub_metering_2'] > df['Sub_metering_3'])]\n",
    "\n",
    "    fh = filtered_df.iloc[:len(filtered_df) // 2]\n",
    "    sh = filtered_df.iloc[len(filtered_df) // 2:]\n",
    "    result = pd.concat([fh.iloc[2::3], sh.iloc[3::4]])\n",
    "\n",
    "    return result\n",
    "\n",
    "def filter_by_conditions_and_split_np(np_arr):\n",
    "    condition = (np_arr[:, 1].astype('O').astype(dt_time) >= dt_time(18, 0, 0)) & \\\n",
    "                (np_arr[:, 2] > 6) & \\\n",
    "                (np_arr[:, 7] > np_arr[:, 6]) & \\\n",
    "                (np_arr[:, 7] > np_arr[:, 8])\n",
    "    \n",
    "    filtered_array = np_arr[condition]\n",
    "\n",
    "    fh = filtered_array[:len(filtered_array) // 2]\n",
    "    sh = filtered_array[len(filtered_array) // 2:]\n",
    "    result = np.concatenate([fh[2::3], sh[3::4]])\n",
    "    return result\n",
    "\n",
    "\n",
    "print(\"\\n DataFrame\")\n",
    "start_time = time.time()\n",
    "filtered_df = filter_by_conditions_and_split(df)\n",
    "print_head(filtered_df.values.tolist(), df.columns.tolist())\n",
    "end_time = time.time() - start_time\n",
    "print(f\"Час виконання для DataFrame: {end_time:.4f} сек\")\n",
    "\n",
    "print(\"\\n  NumPy масив\")\n",
    "start_time_np = time.time()\n",
    "filtered_np = filter_by_conditions_and_split_np(np_arr)\n",
    "print_head(filtered_np, df.columns.tolist())\n",
    "end_time_np = time.time() - start_time_np\n",
    "print(f\"Час виконання для NumPy масиву: {end_time_np:.4f} сек\")\n"
   ]
  }
 ],
 "metadata": {
  "kernelspec": {
   "display_name": "Python 3",
   "language": "python",
   "name": "python3"
  },
  "language_info": {
   "codemirror_mode": {
    "name": "ipython",
    "version": 3
   },
   "file_extension": ".py",
   "mimetype": "text/x-python",
   "name": "python",
   "nbconvert_exporter": "python",
   "pygments_lexer": "ipython3",
   "version": "3.13.1"
  }
 },
 "nbformat": 4,
 "nbformat_minor": 2
}
